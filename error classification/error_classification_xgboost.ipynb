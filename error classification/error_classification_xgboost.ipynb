{
 "cells": [
  {
   "cell_type": "code",
   "execution_count": 1,
   "metadata": {
    "_cell_guid": "b1076dfc-b9ad-4769-8c92-a6c4dae69d19",
    "_uuid": "8f2839f25d086af736a60e9eeb907d3b93b6e0e5",
    "id": "6YE71F8hyhu-"
   },
   "outputs": [],
   "source": [
    "# Libraries\n",
    "import numpy as np\n",
    "import pandas as pd\n",
    "import matplotlib.pyplot as plt\n",
    "import matplotlib\n",
    "%matplotlib inline\n",
    "import seaborn as sns\n",
    "from mpl_toolkits.mplot3d import Axes3D\n",
    "from sklearn.preprocessing import minmax_scale  \n",
    "from sklearn.model_selection import train_test_split, GridSearchCV\n",
    "from sklearn.metrics import confusion_matrix, classification_report\n",
    "from matplotlib.lines import Line2D\n",
    "\n",
    "\n",
    "from sklearn.tree import DecisionTreeClassifier\n",
    "from sklearn.ensemble import RandomForestClassifier\n",
    "from sklearn.neighbors import KNeighborsClassifier\n",
    "from sklearn.svm import SVC\n",
    "from sklearn.naive_bayes import GaussianNB\n",
    "from sklearn.model_selection import RepeatedKFold\n",
    "from sklearn.model_selection import cross_val_score\n",
    "import os\n",
    "\n"
   ]
  },
  {
   "cell_type": "code",
   "execution_count": 2,
   "metadata": {
    "_cell_guid": "79c7e3d0-c299-4dcb-8224-4455121ee9b0",
    "_uuid": "d629ff2d2480ee46fbb7e2d37f6b5fab8052498a",
    "colab": {
     "base_uri": "https://localhost:8080/"
    },
    "id": "H7ShNesfyhvA",
    "outputId": "66f20bc3-f4d8-4f1b-eccf-d2fabf3c778f"
   },
   "outputs": [
    {
     "name": "stdout",
     "output_type": "stream",
     "text": [
      "<class 'pandas.core.frame.DataFrame'>\n",
      "RangeIndex: 124 entries, 0 to 123\n",
      "Data columns (total 10 columns):\n",
      "var 1      124 non-null float64\n",
      "var 2      124 non-null float64\n",
      "var 3      124 non-null float64\n",
      "var 4      124 non-null int64\n",
      "var 5      124 non-null int64\n",
      "var 6      124 non-null float64\n",
      "var 7      124 non-null int64\n",
      "var 8      124 non-null float64\n",
      "var 9      124 non-null float64\n",
      "Outcome    124 non-null int64\n",
      "dtypes: float64(6), int64(4)\n",
      "memory usage: 9.8 KB\n"
     ]
    }
   ],
   "source": [
    "# Defining dataset and browsing content\n",
    "data = pd.read_csv('https://raw.githubusercontent.com/tleitch/BDML/main/ErrorModel/errors.csv')\n",
    "data.info()"
   ]
  },
  {
   "cell_type": "code",
   "execution_count": 3,
   "metadata": {
    "colab": {
     "base_uri": "https://localhost:8080/",
     "height": 195
    },
    "id": "4foSZjA1bj0p",
    "outputId": "4010e1c7-2719-4736-84ec-4cc624ad6946"
   },
   "outputs": [
    {
     "data": {
      "text/html": [
       "<div>\n",
       "<style scoped>\n",
       "    .dataframe tbody tr th:only-of-type {\n",
       "        vertical-align: middle;\n",
       "    }\n",
       "\n",
       "    .dataframe tbody tr th {\n",
       "        vertical-align: top;\n",
       "    }\n",
       "\n",
       "    .dataframe thead th {\n",
       "        text-align: right;\n",
       "    }\n",
       "</style>\n",
       "<table border=\"1\" class=\"dataframe\">\n",
       "  <thead>\n",
       "    <tr style=\"text-align: right;\">\n",
       "      <th></th>\n",
       "      <th>var 1</th>\n",
       "      <th>var 2</th>\n",
       "      <th>var 3</th>\n",
       "      <th>var 4</th>\n",
       "      <th>var 5</th>\n",
       "      <th>var 6</th>\n",
       "      <th>var 7</th>\n",
       "      <th>var 8</th>\n",
       "      <th>var 9</th>\n",
       "      <th>Outcome</th>\n",
       "    </tr>\n",
       "  </thead>\n",
       "  <tbody>\n",
       "    <tr>\n",
       "      <th>0</th>\n",
       "      <td>0.653573</td>\n",
       "      <td>258.855037</td>\n",
       "      <td>22.999826</td>\n",
       "      <td>1</td>\n",
       "      <td>71</td>\n",
       "      <td>1.240224</td>\n",
       "      <td>2</td>\n",
       "      <td>21.472308</td>\n",
       "      <td>-0.405010</td>\n",
       "      <td>1</td>\n",
       "    </tr>\n",
       "    <tr>\n",
       "      <th>1</th>\n",
       "      <td>0.576011</td>\n",
       "      <td>270.889712</td>\n",
       "      <td>23.748059</td>\n",
       "      <td>1</td>\n",
       "      <td>76</td>\n",
       "      <td>1.175028</td>\n",
       "      <td>3</td>\n",
       "      <td>21.123431</td>\n",
       "      <td>0.611585</td>\n",
       "      <td>0</td>\n",
       "    </tr>\n",
       "    <tr>\n",
       "      <th>2</th>\n",
       "      <td>0.657729</td>\n",
       "      <td>281.479553</td>\n",
       "      <td>24.914027</td>\n",
       "      <td>2</td>\n",
       "      <td>81</td>\n",
       "      <td>1.177164</td>\n",
       "      <td>1</td>\n",
       "      <td>19.483365</td>\n",
       "      <td>1.054139</td>\n",
       "      <td>0</td>\n",
       "    </tr>\n",
       "    <tr>\n",
       "      <th>3</th>\n",
       "      <td>0.546925</td>\n",
       "      <td>302.548908</td>\n",
       "      <td>22.341946</td>\n",
       "      <td>2</td>\n",
       "      <td>76</td>\n",
       "      <td>1.187526</td>\n",
       "      <td>1</td>\n",
       "      <td>20.837815</td>\n",
       "      <td>0.253949</td>\n",
       "      <td>0</td>\n",
       "    </tr>\n",
       "    <tr>\n",
       "      <th>4</th>\n",
       "      <td>0.569086</td>\n",
       "      <td>258.731574</td>\n",
       "      <td>22.351487</td>\n",
       "      <td>1</td>\n",
       "      <td>72</td>\n",
       "      <td>1.296652</td>\n",
       "      <td>1</td>\n",
       "      <td>20.409844</td>\n",
       "      <td>0.903367</td>\n",
       "      <td>0</td>\n",
       "    </tr>\n",
       "  </tbody>\n",
       "</table>\n",
       "</div>"
      ],
      "text/plain": [
       "      var 1       var 2      var 3  var 4  var 5     var 6  var 7      var 8  \\\n",
       "0  0.653573  258.855037  22.999826      1     71  1.240224      2  21.472308   \n",
       "1  0.576011  270.889712  23.748059      1     76  1.175028      3  21.123431   \n",
       "2  0.657729  281.479553  24.914027      2     81  1.177164      1  19.483365   \n",
       "3  0.546925  302.548908  22.341946      2     76  1.187526      1  20.837815   \n",
       "4  0.569086  258.731574  22.351487      1     72  1.296652      1  20.409844   \n",
       "\n",
       "      var 9  Outcome  \n",
       "0 -0.405010        1  \n",
       "1  0.611585        0  \n",
       "2  1.054139        0  \n",
       "3  0.253949        0  \n",
       "4  0.903367        0  "
      ]
     },
     "execution_count": 3,
     "metadata": {},
     "output_type": "execute_result"
    }
   ],
   "source": [
    "data.head()"
   ]
  },
  {
   "cell_type": "markdown",
   "metadata": {
    "id": "dUCt1rbwbsGX"
   },
   "source": [
    "This data is pretty clean from the case authors. Looks like missing is taken care of, the data has been pre-balanced by some algorithm. Only thing we might want to do before using it is standardize/normalize. let's create an X and y for working with the data."
   ]
  },
  {
   "cell_type": "code",
   "execution_count": 4,
   "metadata": {
    "colab": {
     "base_uri": "https://localhost:8080/",
     "height": 195
    },
    "id": "fGZXCQeSbrnV",
    "outputId": "a0e462d1-8032-4714-d01f-2ff6c15ecaed"
   },
   "outputs": [
    {
     "data": {
      "text/html": [
       "<div>\n",
       "<style scoped>\n",
       "    .dataframe tbody tr th:only-of-type {\n",
       "        vertical-align: middle;\n",
       "    }\n",
       "\n",
       "    .dataframe tbody tr th {\n",
       "        vertical-align: top;\n",
       "    }\n",
       "\n",
       "    .dataframe thead th {\n",
       "        text-align: right;\n",
       "    }\n",
       "</style>\n",
       "<table border=\"1\" class=\"dataframe\">\n",
       "  <thead>\n",
       "    <tr style=\"text-align: right;\">\n",
       "      <th></th>\n",
       "      <th>var 1</th>\n",
       "      <th>var 2</th>\n",
       "      <th>var 3</th>\n",
       "      <th>var 4</th>\n",
       "      <th>var 5</th>\n",
       "      <th>var 6</th>\n",
       "      <th>var 7</th>\n",
       "      <th>var 8</th>\n",
       "      <th>var 9</th>\n",
       "    </tr>\n",
       "  </thead>\n",
       "  <tbody>\n",
       "    <tr>\n",
       "      <th>119</th>\n",
       "      <td>0.636953</td>\n",
       "      <td>299.510831</td>\n",
       "      <td>22.146210</td>\n",
       "      <td>2</td>\n",
       "      <td>81</td>\n",
       "      <td>1.242409</td>\n",
       "      <td>2</td>\n",
       "      <td>21.448554</td>\n",
       "      <td>-0.382400</td>\n",
       "    </tr>\n",
       "    <tr>\n",
       "      <th>120</th>\n",
       "      <td>0.627258</td>\n",
       "      <td>259.353564</td>\n",
       "      <td>23.078033</td>\n",
       "      <td>1</td>\n",
       "      <td>83</td>\n",
       "      <td>1.239721</td>\n",
       "      <td>1</td>\n",
       "      <td>19.630472</td>\n",
       "      <td>-0.164600</td>\n",
       "    </tr>\n",
       "    <tr>\n",
       "      <th>121</th>\n",
       "      <td>0.544155</td>\n",
       "      <td>299.066928</td>\n",
       "      <td>25.308636</td>\n",
       "      <td>2</td>\n",
       "      <td>82</td>\n",
       "      <td>1.224124</td>\n",
       "      <td>1</td>\n",
       "      <td>21.104548</td>\n",
       "      <td>1.548561</td>\n",
       "    </tr>\n",
       "    <tr>\n",
       "      <th>122</th>\n",
       "      <td>0.643878</td>\n",
       "      <td>275.315415</td>\n",
       "      <td>23.123910</td>\n",
       "      <td>1</td>\n",
       "      <td>79</td>\n",
       "      <td>1.226226</td>\n",
       "      <td>3</td>\n",
       "      <td>20.911596</td>\n",
       "      <td>-0.734790</td>\n",
       "    </tr>\n",
       "    <tr>\n",
       "      <th>123</th>\n",
       "      <td>0.603712</td>\n",
       "      <td>277.675805</td>\n",
       "      <td>22.363775</td>\n",
       "      <td>2</td>\n",
       "      <td>73</td>\n",
       "      <td>1.187769</td>\n",
       "      <td>3</td>\n",
       "      <td>20.601871</td>\n",
       "      <td>0.061978</td>\n",
       "    </tr>\n",
       "  </tbody>\n",
       "</table>\n",
       "</div>"
      ],
      "text/plain": [
       "        var 1       var 2      var 3  var 4  var 5     var 6  var 7  \\\n",
       "119  0.636953  299.510831  22.146210      2     81  1.242409      2   \n",
       "120  0.627258  259.353564  23.078033      1     83  1.239721      1   \n",
       "121  0.544155  299.066928  25.308636      2     82  1.224124      1   \n",
       "122  0.643878  275.315415  23.123910      1     79  1.226226      3   \n",
       "123  0.603712  277.675805  22.363775      2     73  1.187769      3   \n",
       "\n",
       "         var 8     var 9  \n",
       "119  21.448554 -0.382400  \n",
       "120  19.630472 -0.164600  \n",
       "121  21.104548  1.548561  \n",
       "122  20.911596 -0.734790  \n",
       "123  20.601871  0.061978  "
      ]
     },
     "execution_count": 4,
     "metadata": {},
     "output_type": "execute_result"
    }
   ],
   "source": [
    "X=data.iloc[0:,0:9]\n",
    "X.tail()"
   ]
  },
  {
   "cell_type": "code",
   "execution_count": 5,
   "metadata": {
    "colab": {
     "base_uri": "https://localhost:8080/"
    },
    "id": "PsUeen0PcnQm",
    "outputId": "b0e4396c-e30d-4bc0-a511-86c8c9aa3414"
   },
   "outputs": [
    {
     "data": {
      "text/plain": [
       "0    1\n",
       "1    0\n",
       "2    0\n",
       "3    0\n",
       "4    0\n",
       "Name: Outcome, dtype: int64"
      ]
     },
     "execution_count": 5,
     "metadata": {},
     "output_type": "execute_result"
    }
   ],
   "source": [
    "y=data[\"Outcome\"]\n",
    "y.head()"
   ]
  },
  {
   "cell_type": "markdown",
   "metadata": {
    "id": "bgT0JuEDBojs"
   },
   "source": [
    "Var 4, var 5, and var 7 all look like they might be categorical factors, let's check"
   ]
  },
  {
   "cell_type": "code",
   "execution_count": 6,
   "metadata": {
    "colab": {
     "base_uri": "https://localhost:8080/"
    },
    "id": "zqBKX7jOBfZ3",
    "outputId": "0215591e-c824-4728-e10b-9e571a288d82"
   },
   "outputs": [
    {
     "data": {
      "text/plain": [
       "array([1, 2], dtype=int64)"
      ]
     },
     "execution_count": 6,
     "metadata": {},
     "output_type": "execute_result"
    }
   ],
   "source": [
    "X[\"var 4\"].unique()"
   ]
  },
  {
   "cell_type": "code",
   "execution_count": 7,
   "metadata": {
    "colab": {
     "base_uri": "https://localhost:8080/"
    },
    "id": "cDAZGWQpBfZ3",
    "outputId": "60dc3505-522f-4fdb-c771-560977db871c"
   },
   "outputs": [
    {
     "data": {
      "text/plain": [
       "array([71, 76, 81, 72, 88, 80, 85, 82, 70, 78, 90, 79, 77, 73, 83, 86, 89,\n",
       "       84, 87, 74, 75], dtype=int64)"
      ]
     },
     "execution_count": 7,
     "metadata": {},
     "output_type": "execute_result"
    }
   ],
   "source": [
    "X[\"var 5\"].unique()"
   ]
  },
  {
   "cell_type": "code",
   "execution_count": 8,
   "metadata": {
    "colab": {
     "base_uri": "https://localhost:8080/"
    },
    "id": "sB2tFxSaBfZ4",
    "outputId": "e1115a04-cfbf-4a22-a2ec-4318e4485732"
   },
   "outputs": [
    {
     "data": {
      "text/plain": [
       "array([2, 3, 1], dtype=int64)"
      ]
     },
     "execution_count": 8,
     "metadata": {},
     "output_type": "execute_result"
    }
   ],
   "source": [
    "X[\"var 7\"].unique()"
   ]
  },
  {
   "cell_type": "markdown",
   "metadata": {
    "id": "9AbpMy9oBzHw"
   },
   "source": [
    "Yep, these 3 variables will need 1 hot encoding"
   ]
  },
  {
   "cell_type": "code",
   "execution_count": 9,
   "metadata": {
    "colab": {
     "base_uri": "https://localhost:8080/",
     "height": 232
    },
    "id": "nhQSYfCmJj_E",
    "outputId": "3a621e2a-8292-4295-84ea-a6bdcbeace78"
   },
   "outputs": [
    {
     "data": {
      "text/html": [
       "<div>\n",
       "<style scoped>\n",
       "    .dataframe tbody tr th:only-of-type {\n",
       "        vertical-align: middle;\n",
       "    }\n",
       "\n",
       "    .dataframe tbody tr th {\n",
       "        vertical-align: top;\n",
       "    }\n",
       "\n",
       "    .dataframe thead th {\n",
       "        text-align: right;\n",
       "    }\n",
       "</style>\n",
       "<table border=\"1\" class=\"dataframe\">\n",
       "  <thead>\n",
       "    <tr style=\"text-align: right;\">\n",
       "      <th></th>\n",
       "      <th>var 1</th>\n",
       "      <th>var 2</th>\n",
       "      <th>var 3</th>\n",
       "      <th>var 6</th>\n",
       "      <th>var 8</th>\n",
       "      <th>var 9</th>\n",
       "      <th>var 4_1</th>\n",
       "      <th>var 4_2</th>\n",
       "      <th>var 5_70</th>\n",
       "      <th>var 5_71</th>\n",
       "      <th>...</th>\n",
       "      <th>var 5_84</th>\n",
       "      <th>var 5_85</th>\n",
       "      <th>var 5_86</th>\n",
       "      <th>var 5_87</th>\n",
       "      <th>var 5_88</th>\n",
       "      <th>var 5_89</th>\n",
       "      <th>var 5_90</th>\n",
       "      <th>var 7_1</th>\n",
       "      <th>var 7_2</th>\n",
       "      <th>var 7_3</th>\n",
       "    </tr>\n",
       "  </thead>\n",
       "  <tbody>\n",
       "    <tr>\n",
       "      <th>0</th>\n",
       "      <td>0.653573</td>\n",
       "      <td>258.855037</td>\n",
       "      <td>22.999826</td>\n",
       "      <td>1.240224</td>\n",
       "      <td>21.472308</td>\n",
       "      <td>-0.405010</td>\n",
       "      <td>1</td>\n",
       "      <td>0</td>\n",
       "      <td>0</td>\n",
       "      <td>1</td>\n",
       "      <td>...</td>\n",
       "      <td>0</td>\n",
       "      <td>0</td>\n",
       "      <td>0</td>\n",
       "      <td>0</td>\n",
       "      <td>0</td>\n",
       "      <td>0</td>\n",
       "      <td>0</td>\n",
       "      <td>0</td>\n",
       "      <td>1</td>\n",
       "      <td>0</td>\n",
       "    </tr>\n",
       "    <tr>\n",
       "      <th>1</th>\n",
       "      <td>0.576011</td>\n",
       "      <td>270.889712</td>\n",
       "      <td>23.748059</td>\n",
       "      <td>1.175028</td>\n",
       "      <td>21.123431</td>\n",
       "      <td>0.611585</td>\n",
       "      <td>1</td>\n",
       "      <td>0</td>\n",
       "      <td>0</td>\n",
       "      <td>0</td>\n",
       "      <td>...</td>\n",
       "      <td>0</td>\n",
       "      <td>0</td>\n",
       "      <td>0</td>\n",
       "      <td>0</td>\n",
       "      <td>0</td>\n",
       "      <td>0</td>\n",
       "      <td>0</td>\n",
       "      <td>0</td>\n",
       "      <td>0</td>\n",
       "      <td>1</td>\n",
       "    </tr>\n",
       "    <tr>\n",
       "      <th>2</th>\n",
       "      <td>0.657729</td>\n",
       "      <td>281.479553</td>\n",
       "      <td>24.914027</td>\n",
       "      <td>1.177164</td>\n",
       "      <td>19.483365</td>\n",
       "      <td>1.054139</td>\n",
       "      <td>0</td>\n",
       "      <td>1</td>\n",
       "      <td>0</td>\n",
       "      <td>0</td>\n",
       "      <td>...</td>\n",
       "      <td>0</td>\n",
       "      <td>0</td>\n",
       "      <td>0</td>\n",
       "      <td>0</td>\n",
       "      <td>0</td>\n",
       "      <td>0</td>\n",
       "      <td>0</td>\n",
       "      <td>1</td>\n",
       "      <td>0</td>\n",
       "      <td>0</td>\n",
       "    </tr>\n",
       "    <tr>\n",
       "      <th>3</th>\n",
       "      <td>0.546925</td>\n",
       "      <td>302.548908</td>\n",
       "      <td>22.341946</td>\n",
       "      <td>1.187526</td>\n",
       "      <td>20.837815</td>\n",
       "      <td>0.253949</td>\n",
       "      <td>0</td>\n",
       "      <td>1</td>\n",
       "      <td>0</td>\n",
       "      <td>0</td>\n",
       "      <td>...</td>\n",
       "      <td>0</td>\n",
       "      <td>0</td>\n",
       "      <td>0</td>\n",
       "      <td>0</td>\n",
       "      <td>0</td>\n",
       "      <td>0</td>\n",
       "      <td>0</td>\n",
       "      <td>1</td>\n",
       "      <td>0</td>\n",
       "      <td>0</td>\n",
       "    </tr>\n",
       "    <tr>\n",
       "      <th>4</th>\n",
       "      <td>0.569086</td>\n",
       "      <td>258.731574</td>\n",
       "      <td>22.351487</td>\n",
       "      <td>1.296652</td>\n",
       "      <td>20.409844</td>\n",
       "      <td>0.903367</td>\n",
       "      <td>1</td>\n",
       "      <td>0</td>\n",
       "      <td>0</td>\n",
       "      <td>0</td>\n",
       "      <td>...</td>\n",
       "      <td>0</td>\n",
       "      <td>0</td>\n",
       "      <td>0</td>\n",
       "      <td>0</td>\n",
       "      <td>0</td>\n",
       "      <td>0</td>\n",
       "      <td>0</td>\n",
       "      <td>1</td>\n",
       "      <td>0</td>\n",
       "      <td>0</td>\n",
       "    </tr>\n",
       "  </tbody>\n",
       "</table>\n",
       "<p>5 rows × 32 columns</p>\n",
       "</div>"
      ],
      "text/plain": [
       "      var 1       var 2      var 3     var 6      var 8     var 9  var 4_1  \\\n",
       "0  0.653573  258.855037  22.999826  1.240224  21.472308 -0.405010        1   \n",
       "1  0.576011  270.889712  23.748059  1.175028  21.123431  0.611585        1   \n",
       "2  0.657729  281.479553  24.914027  1.177164  19.483365  1.054139        0   \n",
       "3  0.546925  302.548908  22.341946  1.187526  20.837815  0.253949        0   \n",
       "4  0.569086  258.731574  22.351487  1.296652  20.409844  0.903367        1   \n",
       "\n",
       "   var 4_2  var 5_70  var 5_71   ...     var 5_84  var 5_85  var 5_86  \\\n",
       "0        0         0         1   ...            0         0         0   \n",
       "1        0         0         0   ...            0         0         0   \n",
       "2        1         0         0   ...            0         0         0   \n",
       "3        1         0         0   ...            0         0         0   \n",
       "4        0         0         0   ...            0         0         0   \n",
       "\n",
       "   var 5_87  var 5_88  var 5_89  var 5_90  var 7_1  var 7_2  var 7_3  \n",
       "0         0         0         0         0        0        1        0  \n",
       "1         0         0         0         0        0        0        1  \n",
       "2         0         0         0         0        1        0        0  \n",
       "3         0         0         0         0        1        0        0  \n",
       "4         0         0         0         0        1        0        0  \n",
       "\n",
       "[5 rows x 32 columns]"
      ]
     },
     "execution_count": 9,
     "metadata": {},
     "output_type": "execute_result"
    }
   ],
   "source": [
    "data=X.copy()\n",
    "data = pd.get_dummies(data,prefix=['var 4'], columns = ['var 4'])\n",
    "data = pd.get_dummies(data,prefix=['var 5'], columns = ['var 5'])\n",
    "data = pd.get_dummies(data,prefix=['var 7'], columns = ['var 7'])\n",
    "Xencd=data\n",
    "Xencd.head()\n"
   ]
  },
  {
   "cell_type": "markdown",
   "metadata": {
    "id": "HBZPV1jx8Fn4"
   },
   "source": [
    "Let's create train test split"
   ]
  },
  {
   "cell_type": "code",
   "execution_count": 10,
   "metadata": {
    "colab": {
     "base_uri": "https://localhost:8080/"
    },
    "id": "Jpp-eiu58FY6",
    "outputId": "54ebb4ef-10dc-4163-c451-b568d526f5e5"
   },
   "outputs": [
    {
     "name": "stdout",
     "output_type": "stream",
     "text": [
      "X_train (93, 32)\n",
      "y_train (93,)\n",
      "X_test (31, 32)\n",
      "y_test (31,)\n"
     ]
    }
   ],
   "source": [
    "X_train, X_test, y_train, y_test = train_test_split(Xencd, y, test_size=0.25, random_state=42)\n",
    "print(\"X_train\", X_train.shape)\n",
    "print(\"y_train\", y_train.shape)\n",
    "print(\"X_test\", X_test.shape)\n",
    "print(\"y_test\", y_test.shape)"
   ]
  },
  {
   "cell_type": "code",
   "execution_count": null,
   "metadata": {
    "id": "akuCJmItfPtn"
   },
   "outputs": [],
   "source": []
  },
  {
   "cell_type": "code",
   "execution_count": 11,
   "metadata": {
    "id": "7Fq9Pfv2yhu_"
   },
   "outputs": [],
   "source": [
    "# Functions\n",
    "\n",
    "# Showing Confusion Matrix\n",
    "def plot_cm(y_true, y_pred, title, figsize=(5,4)):\n",
    "    cm = confusion_matrix(y_true, y_pred, labels=np.unique(y_true))\n",
    "    cm_sum = np.sum(cm, axis=1, keepdims=True)\n",
    "    cm_perc = cm / cm_sum.astype(float) * 100\n",
    "    annot = np.empty_like(cm).astype(str)\n",
    "    nrows, ncols = cm.shape\n",
    "    for i in range(nrows):\n",
    "        for j in range(ncols):\n",
    "            c = cm[i, j]\n",
    "            p = cm_perc[i, j]\n",
    "            if i == j:\n",
    "                s = cm_sum[i]\n",
    "                annot[i, j] = '%.1f%%\\n%d/%d' % (p, c, s)\n",
    "            elif c == 0:\n",
    "                annot[i, j] = ''\n",
    "            else:\n",
    "                annot[i, j] = '%.1f%%\\n%d' % (p, c)\n",
    "    cm = pd.DataFrame(cm, index=np.unique(y_true), columns=np.unique(y_true))\n",
    "    cm.index.name = 'Actual'\n",
    "    cm.columns.name = 'Predicted'\n",
    "    fig, ax = plt.subplots(figsize=figsize)\n",
    "    plt.title(title)\n",
    "    sns.heatmap(cm, cmap= \"YlGnBu\", annot=annot, fmt='', ax=ax)\n",
    "    "
   ]
  },
  {
   "cell_type": "code",
   "execution_count": 12,
   "metadata": {
    "colab": {
     "base_uri": "https://localhost:8080/"
    },
    "id": "FjowFAWtyhvE",
    "outputId": "51b031b1-4922-4ea2-803e-b040f712a2c0"
   },
   "outputs": [
    {
     "name": "stdout",
     "output_type": "stream",
     "text": [
      "RF Tuned Hyperparameters {'criterion': 'entropy', 'min_samples_leaf': 1, 'min_samples_split': 5, 'n_estimators': 50}\n",
      "RF Tuned Best Score: 0.839\n"
     ]
    }
   ],
   "source": [
    "# Create RF classification model with GridSearchCV\n",
    "# n_estimators: The number of trees in the forest.\n",
    "# criterion, min_samples_split and min_samples_leaf are same to decision tree parameters.\n",
    "rf_grid = {\"n_estimators\": [50, 100], \"criterion\": [\"gini\", \"entropy\"],\n",
    "           \"min_samples_split\":[3,4,5,6,7], \"min_samples_leaf\":[1,2,3,4,5,6]}\n",
    "rforest = GridSearchCV(RandomForestClassifier(random_state=42), rf_grid, cv=5, iid=False)\n",
    "rforest.fit(X_train, y_train)\n",
    "\n",
    "print(\"RF Tuned Hyperparameters\", rforest.best_params_)\n",
    "print(\"RF Tuned Best Score:\", round(rforest.best_score_,3))"
   ]
  },
  {
   "cell_type": "code",
   "execution_count": 13,
   "metadata": {
    "colab": {
     "base_uri": "https://localhost:8080/"
    },
    "id": "6nDgBGNtNTm4",
    "outputId": "31cfd22e-4fd2-4555-f79b-7e8aa48e56b4"
   },
   "outputs": [
    {
     "name": "stdout",
     "output_type": "stream",
     "text": [
      "Random Forest (RF) Classification Accuracy: 93.55%\n"
     ]
    }
   ],
   "source": [
    "best_clf_rforest = rforest.best_estimator_\n",
    "best_clf_rforest.fit(X_train, y_train)\n",
    "rforest_y_head = best_clf_rforest.predict(X_test)\n",
    "print(\"Random Forest (RF) Classification Accuracy: {}%\" .format(round(best_clf_rforest.score(X_test, y_test)*100,2)))"
   ]
  },
  {
   "cell_type": "code",
   "execution_count": 14,
   "metadata": {
    "colab": {
     "base_uri": "https://localhost:8080/",
     "height": 295
    },
    "id": "Y12glN_wPKjb",
    "outputId": "4fb106e5-fea6-4652-fa52-22e94bebe507"
   },
   "outputs": [
    {
     "data": {
      "image/png": "[encoded data removed]",
      "text/plain": [
       "<Figure size 360x288 with 2 Axes>"
      ]
     },
     "metadata": {
      "needs_background": "light"
     },
     "output_type": "display_data"
    }
   ],
   "source": [
    "plot_cm(y_test, rforest_y_head, title=\"RF Confusion Matrix\")"
   ]
  },
  {
   "cell_type": "markdown",
   "metadata": {
    "id": "y-av6QeFRAc2"
   },
   "source": [
    "To get you started on the HW contest, here is an xgboost model implemented w/o tuning."
   ]
  },
  {
   "cell_type": "code",
   "execution_count": 15,
   "metadata": {
    "colab": {
     "base_uri": "https://localhost:8080/"
    },
    "id": "JI1EFtpFs9Xm",
    "outputId": "cecc58ac-4e94-4e33-9e8c-3d209c52aa88"
   },
   "outputs": [
    {
     "name": "stderr",
     "output_type": "stream",
     "text": [
      "D:\\Anaconda\\lib\\site-packages\\xgboost\\sklearn.py:1146: UserWarning: The use of label encoder in XGBClassifier is deprecated and will be removed in a future release. To remove this warning, do the following: 1) Pass option use_label_encoder=False when constructing XGBClassifier object; and 2) Encode your labels (y) as integers starting with 0, i.e. 0, 1, 2, ..., [num_class - 1].\n",
      "  warnings.warn(label_encoder_deprecation_msg, UserWarning)\n"
     ]
    },
    {
     "name": "stdout",
     "output_type": "stream",
     "text": [
      "[20:17:35] WARNING: C:/Users/Administrator/workspace/xgboost-win64_release_1.4.0/src/learner.cc:1095: Starting in XGBoost 1.3.0, the default evaluation metric used with the objective 'binary:logistic' was changed from 'error' to 'logloss'. Explicitly set eval_metric if you'd like to restore the old behavior.\n",
      "XGB  Classification Accuracy: 77.42%\n"
     ]
    },
    {
     "name": "stderr",
     "output_type": "stream",
     "text": [
      "D:\\Anaconda\\lib\\site-packages\\xgboost\\data.py:114: UserWarning: Use subset (sliced data) of np.ndarray is not recommended because it will generate extra copies and increase memory consumption\n",
      "  \"because it will generate extra copies and increase \" +\n",
      "D:\\Anaconda\\lib\\site-packages\\sklearn\\preprocessing\\label.py:151: DeprecationWarning: The truth value of an empty array is ambiguous. Returning False, but in future this will result in an error. Use `array.size > 0` to check that an array is not empty.\n",
      "  if diff:\n",
      "D:\\Anaconda\\lib\\site-packages\\xgboost\\data.py:114: UserWarning: Use subset (sliced data) of np.ndarray is not recommended because it will generate extra copies and increase memory consumption\n",
      "  \"because it will generate extra copies and increase \" +\n",
      "D:\\Anaconda\\lib\\site-packages\\sklearn\\preprocessing\\label.py:151: DeprecationWarning: The truth value of an empty array is ambiguous. Returning False, but in future this will result in an error. Use `array.size > 0` to check that an array is not empty.\n",
      "  if diff:\n"
     ]
    }
   ],
   "source": [
    "from xgboost import XGBClassifier\n",
    "xgbModel=XGBClassifier()\n",
    "xgbModel.fit(X_train, y_train)\n",
    "xgbModel_y_head = xgbModel.predict(X_test)\n",
    "print(\"XGB  Classification Accuracy: {}%\" .format(round(xgbModel.score(X_test, y_test)*100,2)))"
   ]
  },
  {
   "cell_type": "code",
   "execution_count": 16,
   "metadata": {
    "colab": {
     "base_uri": "https://localhost:8080/",
     "height": 295
    },
    "id": "vJ4wmqUKSrqw",
    "outputId": "02c014f3-558b-413e-8151-937e97787cce"
   },
   "outputs": [
    {
     "data": {
      "image/png": "[encoded data removed]",
      "text/plain": [
       "<Figure size 360x288 with 2 Axes>"
      ]
     },
     "metadata": {
      "needs_background": "light"
     },
     "output_type": "display_data"
    }
   ],
   "source": [
    "plot_cm(y_test, xgbModel_y_head, title=\"XGB Confusion Matrix\")"
   ]
  },
  {
   "cell_type": "markdown",
   "metadata": {},
   "source": [
    "<h1>Grid Search Tuning</h1>"
   ]
  },
  {
   "cell_type": "code",
   "execution_count": 17,
   "metadata": {},
   "outputs": [
    {
     "name": "stderr",
     "output_type": "stream",
     "text": [
      "D:\\Anaconda\\lib\\site-packages\\xgboost\\sklearn.py:1146: UserWarning: The use of label encoder in XGBClassifier is deprecated and will be removed in a future release. To remove this warning, do the following: 1) Pass option use_label_encoder=False when constructing XGBClassifier object; and 2) Encode your labels (y) as integers starting with 0, i.e. 0, 1, 2, ..., [num_class - 1].\n",
      "  warnings.warn(label_encoder_deprecation_msg, UserWarning)\n"
     ]
    },
    {
     "name": "stdout",
     "output_type": "stream",
     "text": [
      "[20:17:48] WARNING: C:/Users/Administrator/workspace/xgboost-win64_release_1.4.0/src/learner.cc:1095: Starting in XGBoost 1.3.0, the default evaluation metric used with the objective 'binary:logistic' was changed from 'error' to 'logloss'. Explicitly set eval_metric if you'd like to restore the old behavior.\n"
     ]
    },
    {
     "name": "stderr",
     "output_type": "stream",
     "text": [
      "D:\\Anaconda\\lib\\site-packages\\sklearn\\model_selection\\_search.py:762: DeprecationWarning: The grid_scores_ attribute was deprecated in version 0.18 in favor of the more elaborate cv_results_ attribute. The grid_scores_ attribute will not be available from 0.20\n",
      "  DeprecationWarning)\n"
     ]
    },
    {
     "data": {
      "text/plain": [
       "([mean: 0.86981, std: 0.11673, params: {'n_estimators': 10},\n",
       "  mean: 0.85357, std: 0.13628, params: {'n_estimators': 15},\n",
       "  mean: 0.87792, std: 0.10421, params: {'n_estimators': 20},\n",
       "  mean: 0.88474, std: 0.10292, params: {'n_estimators': 30},\n",
       "  mean: 0.87468, std: 0.11204, params: {'n_estimators': 50},\n",
       "  mean: 0.86494, std: 0.11940, params: {'n_estimators': 80},\n",
       "  mean: 0.86461, std: 0.12340, params: {'n_estimators': 100}],\n",
       " {'n_estimators': 30},\n",
       " 0.8847402597402597)"
      ]
     },
     "execution_count": 17,
     "metadata": {},
     "output_type": "execute_result"
    }
   ],
   "source": [
    "#Initalization & n_estimators tuning\n",
    "param_test1 = {\n",
    " 'n_estimators':[10, 15, 20, 30, 50, 80, 100]\n",
    "}\n",
    "gsearch1 = GridSearchCV(estimator = XGBClassifier(         learning_rate =0.1, n_estimators=100, max_depth=5,\n",
    "min_child_weight=1, gamma=0, subsample=0.8,             colsample_bytree=0.8,\n",
    " objective= 'binary:logistic', nthread=4,     scale_pos_weight=1, seed=27), \n",
    " param_grid = param_test1,     scoring='roc_auc',n_jobs=4,iid=False, cv=5)\n",
    "gsearch1.fit(X_train, y_train)\n",
    "gsearch1.grid_scores_, gsearch1.best_params_,     gsearch1.best_score_"
   ]
  },
  {
   "cell_type": "code",
   "execution_count": 18,
   "metadata": {
    "scrolled": true
   },
   "outputs": [
    {
     "name": "stdout",
     "output_type": "stream",
     "text": [
      "[20:18:02] WARNING: C:/Users/Administrator/workspace/xgboost-win64_release_1.4.0/src/learner.cc:1095: Starting in XGBoost 1.3.0, the default evaluation metric used with the objective 'binary:logistic' was changed from 'error' to 'logloss'. Explicitly set eval_metric if you'd like to restore the old behavior.\n"
     ]
    },
    {
     "name": "stderr",
     "output_type": "stream",
     "text": [
      "D:\\Anaconda\\lib\\site-packages\\xgboost\\sklearn.py:1146: UserWarning: The use of label encoder in XGBClassifier is deprecated and will be removed in a future release. To remove this warning, do the following: 1) Pass option use_label_encoder=False when constructing XGBClassifier object; and 2) Encode your labels (y) as integers starting with 0, i.e. 0, 1, 2, ..., [num_class - 1].\n",
      "  warnings.warn(label_encoder_deprecation_msg, UserWarning)\n",
      "D:\\Anaconda\\lib\\site-packages\\sklearn\\model_selection\\_search.py:762: DeprecationWarning: The grid_scores_ attribute was deprecated in version 0.18 in favor of the more elaborate cv_results_ attribute. The grid_scores_ attribute will not be available from 0.20\n",
      "  DeprecationWarning)\n"
     ]
    },
    {
     "data": {
      "text/plain": [
       "([mean: 0.89383, std: 0.10563, params: {'max_depth': 3, 'min_child_weight': 1},\n",
       "  mean: 0.87565, std: 0.13028, params: {'max_depth': 3, 'min_child_weight': 2},\n",
       "  mean: 0.85032, std: 0.12081, params: {'max_depth': 3, 'min_child_weight': 3},\n",
       "  mean: 0.82857, std: 0.13173, params: {'max_depth': 3, 'min_child_weight': 4},\n",
       "  mean: 0.58279, std: 0.13624, params: {'max_depth': 3, 'min_child_weight': 5},\n",
       "  mean: 0.52679, std: 0.04213, params: {'max_depth': 3, 'min_child_weight': 6},\n",
       "  mean: 0.88474, std: 0.10441, params: {'max_depth': 4, 'min_child_weight': 1},\n",
       "  mean: 0.87597, std: 0.12538, params: {'max_depth': 4, 'min_child_weight': 2},\n",
       "  mean: 0.85032, std: 0.12081, params: {'max_depth': 4, 'min_child_weight': 3},\n",
       "  mean: 0.82857, std: 0.13173, params: {'max_depth': 4, 'min_child_weight': 4},\n",
       "  mean: 0.58279, std: 0.13624, params: {'max_depth': 4, 'min_child_weight': 5},\n",
       "  mean: 0.52679, std: 0.04213, params: {'max_depth': 4, 'min_child_weight': 6},\n",
       "  mean: 0.88474, std: 0.10292, params: {'max_depth': 5, 'min_child_weight': 1},\n",
       "  mean: 0.87597, std: 0.12538, params: {'max_depth': 5, 'min_child_weight': 2},\n",
       "  mean: 0.85032, std: 0.12081, params: {'max_depth': 5, 'min_child_weight': 3},\n",
       "  mean: 0.82857, std: 0.13173, params: {'max_depth': 5, 'min_child_weight': 4},\n",
       "  mean: 0.58279, std: 0.13624, params: {'max_depth': 5, 'min_child_weight': 5},\n",
       "  mean: 0.52679, std: 0.04213, params: {'max_depth': 5, 'min_child_weight': 6},\n",
       "  mean: 0.88474, std: 0.10292, params: {'max_depth': 6, 'min_child_weight': 1},\n",
       "  mean: 0.87597, std: 0.12538, params: {'max_depth': 6, 'min_child_weight': 2},\n",
       "  mean: 0.85032, std: 0.12081, params: {'max_depth': 6, 'min_child_weight': 3},\n",
       "  mean: 0.82857, std: 0.13173, params: {'max_depth': 6, 'min_child_weight': 4},\n",
       "  mean: 0.58279, std: 0.13624, params: {'max_depth': 6, 'min_child_weight': 5},\n",
       "  mean: 0.52679, std: 0.04213, params: {'max_depth': 6, 'min_child_weight': 6},\n",
       "  mean: 0.88474, std: 0.10292, params: {'max_depth': 7, 'min_child_weight': 1},\n",
       "  mean: 0.87597, std: 0.12538, params: {'max_depth': 7, 'min_child_weight': 2},\n",
       "  mean: 0.85032, std: 0.12081, params: {'max_depth': 7, 'min_child_weight': 3},\n",
       "  mean: 0.82857, std: 0.13173, params: {'max_depth': 7, 'min_child_weight': 4},\n",
       "  mean: 0.58279, std: 0.13624, params: {'max_depth': 7, 'min_child_weight': 5},\n",
       "  mean: 0.52679, std: 0.04213, params: {'max_depth': 7, 'min_child_weight': 6}],\n",
       " {'max_depth': 3, 'min_child_weight': 1},\n",
       " 0.8938311688311689)"
      ]
     },
     "execution_count": 18,
     "metadata": {},
     "output_type": "execute_result"
    }
   ],
   "source": [
    "#max_depth & min_child_weight\n",
    "param_test2 = {\n",
    " 'max_depth':[3,4,5,6,7],\n",
    " 'min_child_weight':[1,2,3,4,5,6]\n",
    "}\n",
    "gsearch2 = GridSearchCV(estimator = XGBClassifier(         learning_rate =0.1, n_estimators=30, max_depth=5,\n",
    "min_child_weight=1, gamma=0, subsample=0.8,             colsample_bytree=0.8,\n",
    " objective= 'binary:logistic', nthread=4,     scale_pos_weight=1, seed=27), \n",
    " param_grid = param_test2,     scoring='roc_auc',n_jobs=4,iid=False, cv=5)\n",
    "gsearch2.fit(X_train, y_train)\n",
    "gsearch2.grid_scores_, gsearch2.best_params_,     gsearch2.best_score_"
   ]
  },
  {
   "cell_type": "code",
   "execution_count": 19,
   "metadata": {},
   "outputs": [
    {
     "name": "stdout",
     "output_type": "stream",
     "text": [
      "[20:18:10] WARNING: C:/Users/Administrator/workspace/xgboost-win64_release_1.4.0/src/learner.cc:1095: Starting in XGBoost 1.3.0, the default evaluation metric used with the objective 'binary:logistic' was changed from 'error' to 'logloss'. Explicitly set eval_metric if you'd like to restore the old behavior.\n"
     ]
    },
    {
     "name": "stderr",
     "output_type": "stream",
     "text": [
      "D:\\Anaconda\\lib\\site-packages\\xgboost\\sklearn.py:1146: UserWarning: The use of label encoder in XGBClassifier is deprecated and will be removed in a future release. To remove this warning, do the following: 1) Pass option use_label_encoder=False when constructing XGBClassifier object; and 2) Encode your labels (y) as integers starting with 0, i.e. 0, 1, 2, ..., [num_class - 1].\n",
      "  warnings.warn(label_encoder_deprecation_msg, UserWarning)\n",
      "D:\\Anaconda\\lib\\site-packages\\sklearn\\model_selection\\_search.py:762: DeprecationWarning: The grid_scores_ attribute was deprecated in version 0.18 in favor of the more elaborate cv_results_ attribute. The grid_scores_ attribute will not be available from 0.20\n",
      "  DeprecationWarning)\n"
     ]
    },
    {
     "data": {
      "text/plain": [
       "([mean: 0.89383, std: 0.10563, params: {'gamma': 0.0},\n",
       "  mean: 0.89156, std: 0.10807, params: {'gamma': 0.1},\n",
       "  mean: 0.88929, std: 0.11063, params: {'gamma': 0.2},\n",
       "  mean: 0.89416, std: 0.10482, params: {'gamma': 0.3},\n",
       "  mean: 0.89416, std: 0.10845, params: {'gamma': 0.4},\n",
       "  mean: 0.89351, std: 0.11010, params: {'gamma': 0.5},\n",
       "  mean: 0.89870, std: 0.10683, params: {'gamma': 0.6},\n",
       "  mean: 0.90130, std: 0.10368, params: {'gamma': 0.7},\n",
       "  mean: 0.89091, std: 0.11713, params: {'gamma': 0.8},\n",
       "  mean: 0.88636, std: 0.11499, params: {'gamma': 0.9}],\n",
       " {'gamma': 0.7},\n",
       " 0.9012987012987013)"
      ]
     },
     "execution_count": 19,
     "metadata": {},
     "output_type": "execute_result"
    }
   ],
   "source": [
    "#gamma\n",
    "param_test3 = {\n",
    " 'gamma':[i/10.0 for i in range(0,10)]\n",
    "}\n",
    "gsearch3 = GridSearchCV(estimator = XGBClassifier(         learning_rate =0.1, n_estimators=30, max_depth=3,\n",
    "min_child_weight=1, gamma=0, subsample=0.8,             colsample_bytree=0.8,\n",
    " objective= 'binary:logistic', nthread=4,     scale_pos_weight=1, seed=27), \n",
    " param_grid = param_test3,     scoring='roc_auc',n_jobs=4,iid=False, cv=5)\n",
    "gsearch3.fit(X_train, y_train)\n",
    "gsearch3.grid_scores_, gsearch3.best_params_,     gsearch3.best_score_"
   ]
  },
  {
   "cell_type": "code",
   "execution_count": 20,
   "metadata": {
    "scrolled": true
   },
   "outputs": [
    {
     "name": "stdout",
     "output_type": "stream",
     "text": [
      "[20:18:18] WARNING: C:/Users/Administrator/workspace/xgboost-win64_release_1.4.0/src/learner.cc:1095: Starting in XGBoost 1.3.0, the default evaluation metric used with the objective 'binary:logistic' was changed from 'error' to 'logloss'. Explicitly set eval_metric if you'd like to restore the old behavior.\n"
     ]
    },
    {
     "name": "stderr",
     "output_type": "stream",
     "text": [
      "D:\\Anaconda\\lib\\site-packages\\xgboost\\sklearn.py:1146: UserWarning: The use of label encoder in XGBClassifier is deprecated and will be removed in a future release. To remove this warning, do the following: 1) Pass option use_label_encoder=False when constructing XGBClassifier object; and 2) Encode your labels (y) as integers starting with 0, i.e. 0, 1, 2, ..., [num_class - 1].\n",
      "  warnings.warn(label_encoder_deprecation_msg, UserWarning)\n",
      "D:\\Anaconda\\lib\\site-packages\\sklearn\\model_selection\\_search.py:762: DeprecationWarning: The grid_scores_ attribute was deprecated in version 0.18 in favor of the more elaborate cv_results_ attribute. The grid_scores_ attribute will not be available from 0.20\n",
      "  DeprecationWarning)\n"
     ]
    },
    {
     "data": {
      "text/plain": [
       "([mean: 0.87208, std: 0.08472, params: {'colsample_bytree': 0.3, 'subsample': 0.6},\n",
       "  mean: 0.87110, std: 0.10503, params: {'colsample_bytree': 0.3, 'subsample': 0.7},\n",
       "  mean: 0.90455, std: 0.09561, params: {'colsample_bytree': 0.3, 'subsample': 0.8},\n",
       "  mean: 0.88766, std: 0.10019, params: {'colsample_bytree': 0.3, 'subsample': 0.9},\n",
       "  mean: 0.89123, std: 0.08950, params: {'colsample_bytree': 0.4, 'subsample': 0.6},\n",
       "  mean: 0.89188, std: 0.10077, params: {'colsample_bytree': 0.4, 'subsample': 0.7},\n",
       "  mean: 0.90260, std: 0.10770, params: {'colsample_bytree': 0.4, 'subsample': 0.8},\n",
       "  mean: 0.89221, std: 0.11038, params: {'colsample_bytree': 0.4, 'subsample': 0.9},\n",
       "  mean: 0.88214, std: 0.10534, params: {'colsample_bytree': 0.5, 'subsample': 0.6},\n",
       "  mean: 0.88929, std: 0.10500, params: {'colsample_bytree': 0.5, 'subsample': 0.7},\n",
       "  mean: 0.89221, std: 0.09743, params: {'colsample_bytree': 0.5, 'subsample': 0.8},\n",
       "  mean: 0.88539, std: 0.10922, params: {'colsample_bytree': 0.5, 'subsample': 0.9},\n",
       "  mean: 0.88377, std: 0.10293, params: {'colsample_bytree': 0.6, 'subsample': 0.6},\n",
       "  mean: 0.88571, std: 0.11223, params: {'colsample_bytree': 0.6, 'subsample': 0.7},\n",
       "  mean: 0.89513, std: 0.12147, params: {'colsample_bytree': 0.6, 'subsample': 0.8},\n",
       "  mean: 0.89968, std: 0.11760, params: {'colsample_bytree': 0.6, 'subsample': 0.9},\n",
       "  mean: 0.88636, std: 0.10780, params: {'colsample_bytree': 0.7, 'subsample': 0.6},\n",
       "  mean: 0.87792, std: 0.09873, params: {'colsample_bytree': 0.7, 'subsample': 0.7},\n",
       "  mean: 0.87987, std: 0.10943, params: {'colsample_bytree': 0.7, 'subsample': 0.8},\n",
       "  mean: 0.89318, std: 0.11490, params: {'colsample_bytree': 0.7, 'subsample': 0.9},\n",
       "  mean: 0.87175, std: 0.11749, params: {'colsample_bytree': 0.8, 'subsample': 0.6},\n",
       "  mean: 0.88994, std: 0.08971, params: {'colsample_bytree': 0.8, 'subsample': 0.7},\n",
       "  mean: 0.90130, std: 0.10368, params: {'colsample_bytree': 0.8, 'subsample': 0.8},\n",
       "  mean: 0.90779, std: 0.10061, params: {'colsample_bytree': 0.8, 'subsample': 0.9},\n",
       "  mean: 0.88344, std: 0.11139, params: {'colsample_bytree': 0.9, 'subsample': 0.6},\n",
       "  mean: 0.88214, std: 0.10534, params: {'colsample_bytree': 0.9, 'subsample': 0.7},\n",
       "  mean: 0.88799, std: 0.11640, params: {'colsample_bytree': 0.9, 'subsample': 0.8},\n",
       "  mean: 0.89481, std: 0.12031, params: {'colsample_bytree': 0.9, 'subsample': 0.9}],\n",
       " {'colsample_bytree': 0.8, 'subsample': 0.9},\n",
       " 0.9077922077922078)"
      ]
     },
     "execution_count": 20,
     "metadata": {},
     "output_type": "execute_result"
    }
   ],
   "source": [
    "#subsample & colsample_bytree\n",
    "param_test4 = {\n",
    " 'subsample':[i/10.0 for i in range(6,10)],\n",
    " 'colsample_bytree':[i/10.0 for i in range(3,10)]\n",
    "}\n",
    "gsearch4 = GridSearchCV(estimator = XGBClassifier(         learning_rate =0.1, n_estimators=30, max_depth=3,\n",
    "min_child_weight=1, gamma=0.7, subsample=0.8,             colsample_bytree=0.8,\n",
    " objective= 'binary:logistic', nthread=4,     scale_pos_weight=1, seed=27), \n",
    " param_grid = param_test4,     scoring='roc_auc',n_jobs=4,iid=False, cv=5)\n",
    "gsearch4.fit(X_train, y_train)\n",
    "gsearch4.grid_scores_, gsearch4.best_params_,     gsearch4.best_score_"
   ]
  },
  {
   "cell_type": "code",
   "execution_count": 21,
   "metadata": {
    "scrolled": true
   },
   "outputs": [
    {
     "name": "stdout",
     "output_type": "stream",
     "text": [
      "[20:18:29] WARNING: C:/Users/Administrator/workspace/xgboost-win64_release_1.4.0/src/learner.cc:1095: Starting in XGBoost 1.3.0, the default evaluation metric used with the objective 'binary:logistic' was changed from 'error' to 'logloss'. Explicitly set eval_metric if you'd like to restore the old behavior.\n"
     ]
    },
    {
     "name": "stderr",
     "output_type": "stream",
     "text": [
      "D:\\Anaconda\\lib\\site-packages\\xgboost\\sklearn.py:1146: UserWarning: The use of label encoder in XGBClassifier is deprecated and will be removed in a future release. To remove this warning, do the following: 1) Pass option use_label_encoder=False when constructing XGBClassifier object; and 2) Encode your labels (y) as integers starting with 0, i.e. 0, 1, 2, ..., [num_class - 1].\n",
      "  warnings.warn(label_encoder_deprecation_msg, UserWarning)\n",
      "D:\\Anaconda\\lib\\site-packages\\sklearn\\model_selection\\_search.py:762: DeprecationWarning: The grid_scores_ attribute was deprecated in version 0.18 in favor of the more elaborate cv_results_ attribute. The grid_scores_ attribute will not be available from 0.20\n",
      "  DeprecationWarning)\n"
     ]
    },
    {
     "data": {
      "text/plain": [
       "([mean: 0.89903, std: 0.10780, params: {'reg_alpha': 0, 'reg_lambda': 0},\n",
       "  mean: 0.89643, std: 0.10871, params: {'reg_alpha': 0, 'reg_lambda': 0.1},\n",
       "  mean: 0.89740, std: 0.11617, params: {'reg_alpha': 0, 'reg_lambda': 0.5},\n",
       "  mean: 0.90455, std: 0.11171, params: {'reg_alpha': 0, 'reg_lambda': 0.6},\n",
       "  mean: 0.91266, std: 0.09468, params: {'reg_alpha': 0, 'reg_lambda': 0.8},\n",
       "  mean: 0.90779, std: 0.10061, params: {'reg_alpha': 0, 'reg_lambda': 1},\n",
       "  mean: 0.89903, std: 0.11036, params: {'reg_alpha': 0.05, 'reg_lambda': 0},\n",
       "  mean: 0.89740, std: 0.11617, params: {'reg_alpha': 0.05, 'reg_lambda': 0.1},\n",
       "  mean: 0.89968, std: 0.11448, params: {'reg_alpha': 0.05, 'reg_lambda': 0.5},\n",
       "  mean: 0.90487, std: 0.10624, params: {'reg_alpha': 0.05, 'reg_lambda': 0.6},\n",
       "  mean: 0.90260, std: 0.10818, params: {'reg_alpha': 0.05, 'reg_lambda': 0.8},\n",
       "  mean: 0.89740, std: 0.11617, params: {'reg_alpha': 0.05, 'reg_lambda': 1},\n",
       "  mean: 0.89383, std: 0.11310, params: {'reg_alpha': 0.1, 'reg_lambda': 0},\n",
       "  mean: 0.90747, std: 0.10176, params: {'reg_alpha': 0.1, 'reg_lambda': 0.1},\n",
       "  mean: 0.89708, std: 0.11872, params: {'reg_alpha': 0.1, 'reg_lambda': 0.5},\n",
       "  mean: 0.89740, std: 0.11617, params: {'reg_alpha': 0.1, 'reg_lambda': 0.6},\n",
       "  mean: 0.90260, std: 0.10818, params: {'reg_alpha': 0.1, 'reg_lambda': 0.8},\n",
       "  mean: 0.90747, std: 0.10227, params: {'reg_alpha': 0.1, 'reg_lambda': 1},\n",
       "  mean: 0.89708, std: 0.10948, params: {'reg_alpha': 0.3, 'reg_lambda': 0},\n",
       "  mean: 0.89675, std: 0.11529, params: {'reg_alpha': 0.3, 'reg_lambda': 0.1},\n",
       "  mean: 0.90032, std: 0.11395, params: {'reg_alpha': 0.3, 'reg_lambda': 0.5},\n",
       "  mean: 0.90260, std: 0.10818, params: {'reg_alpha': 0.3, 'reg_lambda': 0.6},\n",
       "  mean: 0.89968, std: 0.11760, params: {'reg_alpha': 0.3, 'reg_lambda': 0.8},\n",
       "  mean: 0.90000, std: 0.11213, params: {'reg_alpha': 0.3, 'reg_lambda': 1},\n",
       "  mean: 0.89935, std: 0.11378, params: {'reg_alpha': 0.5, 'reg_lambda': 0},\n",
       "  mean: 0.90260, std: 0.11170, params: {'reg_alpha': 0.5, 'reg_lambda': 0.1},\n",
       "  mean: 0.90032, std: 0.11395, params: {'reg_alpha': 0.5, 'reg_lambda': 0.5},\n",
       "  mean: 0.90260, std: 0.10818, params: {'reg_alpha': 0.5, 'reg_lambda': 0.6},\n",
       "  mean: 0.89545, std: 0.10980, params: {'reg_alpha': 0.5, 'reg_lambda': 0.8},\n",
       "  mean: 0.90519, std: 0.10433, params: {'reg_alpha': 0.5, 'reg_lambda': 1},\n",
       "  mean: 0.90390, std: 0.11736, params: {'reg_alpha': 1, 'reg_lambda': 0},\n",
       "  mean: 0.89935, std: 0.12012, params: {'reg_alpha': 1, 'reg_lambda': 0.1},\n",
       "  mean: 0.89805, std: 0.10315, params: {'reg_alpha': 1, 'reg_lambda': 0.5},\n",
       "  mean: 0.89643, std: 0.10225, params: {'reg_alpha': 1, 'reg_lambda': 0.6},\n",
       "  mean: 0.89675, std: 0.10173, params: {'reg_alpha': 1, 'reg_lambda': 0.8},\n",
       "  mean: 0.89935, std: 0.09882, params: {'reg_alpha': 1, 'reg_lambda': 1}],\n",
       " {'reg_alpha': 0, 'reg_lambda': 0.8},\n",
       " 0.9126623376623376)"
      ]
     },
     "execution_count": 21,
     "metadata": {},
     "output_type": "execute_result"
    }
   ],
   "source": [
    "#reg_alpha & reg_lambda\n",
    "param_test5 = {\n",
    " 'reg_alpha':[0, 0.05, 0.1, 0.3, 0.5, 1],\n",
    " 'reg_lambda': [0, 0.1, 0.5, 0.6, 0.8, 1]\n",
    "}\n",
    "gsearch5 = GridSearchCV(estimator = XGBClassifier(         learning_rate =0.1, n_estimators=30, max_depth=3,\n",
    "min_child_weight=1, gamma=0.7, subsample=0.9,             colsample_bytree=0.8,\n",
    " objective= 'binary:logistic', nthread=4,     scale_pos_weight=1, seed=27), \n",
    " param_grid = param_test5,     scoring='roc_auc',n_jobs=4,iid=False, cv=5)\n",
    "gsearch5.fit(X_train, y_train)\n",
    "gsearch5.grid_scores_, gsearch5.best_params_,     gsearch5.best_score_"
   ]
  },
  {
   "cell_type": "code",
   "execution_count": 22,
   "metadata": {
    "scrolled": true
   },
   "outputs": [
    {
     "name": "stdout",
     "output_type": "stream",
     "text": [
      "[20:18:36] WARNING: C:/Users/Administrator/workspace/xgboost-win64_release_1.4.0/src/learner.cc:1095: Starting in XGBoost 1.3.0, the default evaluation metric used with the objective 'binary:logistic' was changed from 'error' to 'logloss'. Explicitly set eval_metric if you'd like to restore the old behavior.\n"
     ]
    },
    {
     "name": "stderr",
     "output_type": "stream",
     "text": [
      "D:\\Anaconda\\lib\\site-packages\\xgboost\\sklearn.py:1146: UserWarning: The use of label encoder in XGBClassifier is deprecated and will be removed in a future release. To remove this warning, do the following: 1) Pass option use_label_encoder=False when constructing XGBClassifier object; and 2) Encode your labels (y) as integers starting with 0, i.e. 0, 1, 2, ..., [num_class - 1].\n",
      "  warnings.warn(label_encoder_deprecation_msg, UserWarning)\n",
      "D:\\Anaconda\\lib\\site-packages\\sklearn\\model_selection\\_search.py:762: DeprecationWarning: The grid_scores_ attribute was deprecated in version 0.18 in favor of the more elaborate cv_results_ attribute. The grid_scores_ attribute will not be available from 0.20\n",
      "  DeprecationWarning)\n"
     ]
    },
    {
     "data": {
      "text/plain": [
       "([mean: 0.85455, std: 0.13299, params: {'learning_rate': 0.01},\n",
       "  mean: 0.89188, std: 0.10410, params: {'learning_rate': 0.05},\n",
       "  mean: 0.90032, std: 0.11026, params: {'learning_rate': 0.07},\n",
       "  mean: 0.91266, std: 0.09468, params: {'learning_rate': 0.1},\n",
       "  mean: 0.89253, std: 0.10575, params: {'learning_rate': 0.15},\n",
       "  mean: 0.88766, std: 0.12130, params: {'learning_rate': 0.2}],\n",
       " {'learning_rate': 0.1},\n",
       " 0.9126623376623376)"
      ]
     },
     "execution_count": 22,
     "metadata": {},
     "output_type": "execute_result"
    }
   ],
   "source": [
    "#learning_rate\n",
    "param_test6 = {\n",
    " 'learning_rate': [0.01, 0.05, 0.07, 0.1, 0.15, 0.2]\n",
    "}\n",
    "gsearch6 = GridSearchCV(estimator = XGBClassifier(         learning_rate =0.1, n_estimators=30, max_depth=3,\n",
    "min_child_weight=1, gamma=0.7, subsample=0.9,             colsample_bytree=0.8,\n",
    " objective= 'binary:logistic', nthread=4,     scale_pos_weight=1, seed=27, reg_alpha=0, reg_lambda=0.8), \n",
    " param_grid = param_test6,     scoring='roc_auc',n_jobs=4,iid=False, cv=5)\n",
    "gsearch6.fit(X_train, y_train)\n",
    "gsearch6.grid_scores_, gsearch6.best_params_,     gsearch6.best_score_"
   ]
  },
  {
   "cell_type": "code",
   "execution_count": 23,
   "metadata": {},
   "outputs": [],
   "source": [
    "#Best model\n",
    "xgb = XGBClassifier(\n",
    "     learning_rate =0.1,\n",
    "     n_estimators=30,\n",
    "     max_depth=3,\n",
    "     min_child_weight=1,\n",
    "     gamma=0.7,\n",
    "     subsample=0.9,\n",
    "     colsample_bytree=0.8,\n",
    "     objective= 'binary:logistic',\n",
    "     nthread=4,\n",
    "     scale_pos_weight=1,\n",
    "     seed=27,\n",
    "     reg_alpha=0, reg_lambda=0.8)"
   ]
  },
  {
   "cell_type": "code",
   "execution_count": 24,
   "metadata": {
    "scrolled": true
   },
   "outputs": [
    {
     "name": "stdout",
     "output_type": "stream",
     "text": [
      "[20:18:36] WARNING: C:/Users/Administrator/workspace/xgboost-win64_release_1.4.0/src/learner.cc:1095: Starting in XGBoost 1.3.0, the default evaluation metric used with the objective 'binary:logistic' was changed from 'error' to 'logloss'. Explicitly set eval_metric if you'd like to restore the old behavior.\n",
      "XGB  Classification Accuracy: 87.1%\n"
     ]
    },
    {
     "name": "stderr",
     "output_type": "stream",
     "text": [
      "D:\\Anaconda\\lib\\site-packages\\xgboost\\sklearn.py:1146: UserWarning: The use of label encoder in XGBClassifier is deprecated and will be removed in a future release. To remove this warning, do the following: 1) Pass option use_label_encoder=False when constructing XGBClassifier object; and 2) Encode your labels (y) as integers starting with 0, i.e. 0, 1, 2, ..., [num_class - 1].\n",
      "  warnings.warn(label_encoder_deprecation_msg, UserWarning)\n",
      "D:\\Anaconda\\lib\\site-packages\\xgboost\\data.py:114: UserWarning: Use subset (sliced data) of np.ndarray is not recommended because it will generate extra copies and increase memory consumption\n",
      "  \"because it will generate extra copies and increase \" +\n",
      "D:\\Anaconda\\lib\\site-packages\\sklearn\\preprocessing\\label.py:151: DeprecationWarning: The truth value of an empty array is ambiguous. Returning False, but in future this will result in an error. Use `array.size > 0` to check that an array is not empty.\n",
      "  if diff:\n",
      "D:\\Anaconda\\lib\\site-packages\\xgboost\\data.py:114: UserWarning: Use subset (sliced data) of np.ndarray is not recommended because it will generate extra copies and increase memory consumption\n",
      "  \"because it will generate extra copies and increase \" +\n",
      "D:\\Anaconda\\lib\\site-packages\\sklearn\\preprocessing\\label.py:151: DeprecationWarning: The truth value of an empty array is ambiguous. Returning False, but in future this will result in an error. Use `array.size > 0` to check that an array is not empty.\n",
      "  if diff:\n"
     ]
    }
   ],
   "source": [
    "xgb.fit(X_train, y_train)\n",
    "xgb_y_head = xgb.predict(X_test)\n",
    "print(\"XGB  Classification Accuracy: {}%\" .format(round(xgb.score(X_test, y_test)*100,2)))"
   ]
  },
  {
   "cell_type": "code",
   "execution_count": 25,
   "metadata": {},
   "outputs": [
    {
     "data": {
      "image/png": "[encoded data removed]",
      "text/plain": [
       "<Figure size 360x288 with 2 Axes>"
      ]
     },
     "metadata": {
      "needs_background": "light"
     },
     "output_type": "display_data"
    }
   ],
   "source": [
    "plot_cm(y_test, xgb_y_head, title=\"XGB Confusion Matrix\")"
   ]
  },
  {
   "cell_type": "markdown",
   "metadata": {},
   "source": [
    "After tuning the parameters, the accuracy of the model is improved from 77.42% to 87.1%"
   ]
  },
  {
   "cell_type": "code",
   "execution_count": null,
   "metadata": {},
   "outputs": [],
   "source": []
  }
 ],
 "metadata": {
  "colab": {
   "include_colab_link": true,
   "name": "errorsXGB.ipynb",
   "provenance": []
  },
  "kernelspec": {
   "display_name": "Python 3",
   "language": "python",
   "name": "python3"
  },
  "language_info": {
   "codemirror_mode": {
    "name": "ipython",
    "version": 3
   },
   "file_extension": ".py",
   "mimetype": "text/x-python",
   "name": "python",
   "nbconvert_exporter": "python",
   "pygments_lexer": "ipython3",
   "version": "3.11.9"
  },
  "toc": {
   "base_numbering": 1,
   "nav_menu": {},
   "number_sections": true,
   "sideBar": true,
   "skip_h1_title": false,
   "title_cell": "Table of Contents",
   "title_sidebar": "Contents",
   "toc_cell": false,
   "toc_position": {},
   "toc_section_display": true,
   "toc_window_display": false
  }
 },
 "nbformat": 4,
 "nbformat_minor": 1
}
